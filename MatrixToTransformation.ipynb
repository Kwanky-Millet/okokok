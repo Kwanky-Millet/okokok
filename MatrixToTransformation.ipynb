{
 "cells": [
  {
   "cell_type": "code",
   "execution_count": 1,
   "metadata": {},
   "outputs": [],
   "source": [
    "# importing necessary packages\n",
    "import numpy as np\n",
    "import sympy as sp\n",
    "\n",
    "# function definition\n",
    "def lt_from_mat (B1, B2, M):\n",
    "    # defining variables\n",
    "    c = np.array(sp.symbols(f\"c:{len(B1)}\")).reshape(1, -1)\n",
    "    x = sp.symbols(f\"x:{len(B2)}\")\n",
    "    \n",
    "    # obtain Matrix * B2 so you can slice it later for T(v1), T(v2) and so on\n",
    "    B2_transform = M @ B2\n",
    "    \n",
    "    # multiply constants with B1 and equate it to the x-vals\n",
    "    lin_comb = (c @ B1) - x\n",
    "    \n",
    "    # solve for all the constants\n",
    "    const_vals = np.array(list(sp.solve(lin_comb[0]).values()))\n",
    "    \n",
    "    # initialise a zero array of len B1\n",
    "    transform = np.zeros(len(B1))\n",
    "    \n",
    "    # a loop for linear combination of const_vals and sliced matrix\n",
    "    for idx in range(B2_transform.shape[1]):\n",
    "        transform = transform + const_vals[idx] * B2_transform.T[idx]\n",
    "    \n",
    "    return tuple(transform.tolist())"
   ]
  },
  {
   "cell_type": "code",
   "execution_count": 2,
   "metadata": {},
   "outputs": [
    {
     "name": "stdout",
     "output_type": "stream",
     "text": [
      "⎛5⋅x₀   x₁    x₀   9⋅x₁⎞\n",
      "⎜──── + ──, - ── - ────⎟\n",
      "⎝ 2     2     2     2  ⎠\n"
     ]
    }
   ],
   "source": [
    "B1 = np.array([[1, -1], [1, 1]])\n",
    "B2 = np.array([[1, 0], [0, 1]])\n",
    "M = np.array([[2, 3], [4, -5]])\n",
    "\n",
    "# pretty printing the result\n",
    "sp.pprint(lt_from_mat(B1, B2, M))"
   ]
  },
  {
   "cell_type": "code",
   "execution_count": 3,
   "metadata": {},
   "outputs": [
    {
     "name": "stdout",
     "output_type": "stream",
     "text": [
      "(x₀ - x₁ + x₂, 2⋅x₀ - x₁, -x₀ + 2⋅x₁ - 3⋅x₂)\n"
     ]
    }
   ],
   "source": [
    "B1 = np.array([[1, 0, 0], [1, 1, 0], [1, 1, 1]])\n",
    "B2 = np.array([[1, 0, 0], [0, 1, 0], [0, 0, 1]])\n",
    "M = np.array([[1, 0, 1], [2, 1, 1], [-1, 1, -2]])\n",
    "\n",
    "# pretty printing the result\n",
    "sp.pprint(lt_from_mat(B1, B2, M))"
   ]
  }
 ],
 "metadata": {
  "kernelspec": {
   "display_name": "Python 3 (ipykernel)",
   "language": "python",
   "name": "python3"
  },
  "language_info": {
   "codemirror_mode": {
    "name": "ipython",
    "version": 3
   },
   "file_extension": ".py",
   "mimetype": "text/x-python",
   "name": "python",
   "nbconvert_exporter": "python",
   "pygments_lexer": "ipython3",
   "version": "3.10.8"
  }
 },
 "nbformat": 4,
 "nbformat_minor": 2
}
